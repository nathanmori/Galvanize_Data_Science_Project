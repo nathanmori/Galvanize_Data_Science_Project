{
 "cells": [
  {
   "cell_type": "code",
   "execution_count": null,
   "metadata": {
    "collapsed": true
   },
   "outputs": [],
   "source": [
    "import psycopg2\n",
    "from datetime import datetime\n",
    "import pdb\n",
    "from copy import deepcopy\n",
    "import os\n",
    "import pandas as pd\n",
    "\n",
    "params = {\n",
    "  'database': os.environ['TALENTFUL_PG_DATABASE'],\n",
    "  'user': os.environ['TALENTFUL_PG_USER'],\n",
    "  'password': os.environ['TALENTFUL_PG_PASSWORD'],\n",
    "  'host': os.environ['TALENTFUL_PG_HOST'],\n",
    "  'port': os.environ['TALENTFUL_PG_PORT']}\n",
    "conn = psycopg2.connect(**params)\n",
    "c = conn.cursor()\n",
    "tablename = 'github_meetup_staging'\n",
    "query = '''\n",
    "        SELECT *\n",
    "        FROM ''' + tablename\n",
    "c.execute(query)\n",
    "data = c.fetchall()\n",
    "cols = [desc[0] for desc in c.description]\n",
    "conn.commit()\n",
    "conn.close()\n",
    "\n",
    "df = pd.DataFrame(data, columns=cols)\n"
   ]
  },
  {
   "cell_type": "code",
   "execution_count": null,
   "metadata": {
    "collapsed": false
   },
   "outputs": [],
   "source": [
    "df.info()"
   ]
  },
  {
   "cell_type": "code",
   "execution_count": null,
   "metadata": {
    "collapsed": false
   },
   "outputs": [],
   "source": [
    "df.head()"
   ]
  },
  {
   "cell_type": "code",
   "execution_count": null,
   "metadata": {
    "collapsed": false
   },
   "outputs": [],
   "source": [
    "df['max_dist_km'].value_counts()"
   ]
  },
  {
   "cell_type": "code",
   "execution_count": null,
   "metadata": {
    "collapsed": false
   },
   "outputs": [],
   "source": [
    "df[df['verified']]['randomly_paired'].value_counts()"
   ]
  },
  {
   "cell_type": "code",
   "execution_count": null,
   "metadata": {
    "collapsed": false
   },
   "outputs": [],
   "source": [
    "len(df[df['profile_pics_matched'] == False]['github_meetup_combined'])"
   ]
  },
  {
   "cell_type": "code",
   "execution_count": null,
   "metadata": {
    "collapsed": false
   },
   "outputs": [],
   "source": [
    "cols = ['github', 'meetup', 'github_meetup_combined', 'face_pics_processed', 'face_pics_matched']\n",
    "split_col = 'profile_pics_matched'\n",
    "\n",
    "for col in cols:\n",
    "    print '\\n', col\n",
    "    print 'all:', sum(df[col].value_counts()), 'out of', df.shape[0]\n",
    "    print 'matches:', sum(df[df[split_col] == True][col].value_counts()), \\\n",
    "            'out of', df[split_col].value_counts()[True]\n",
    "    print 'not matches:', sum(df[df[split_col] == False][col].value_counts()), \\\n",
    "            'out of', df[split_col].value_counts()[False]"
   ]
  },
  {
   "cell_type": "code",
   "execution_count": null,
   "metadata": {
    "collapsed": false
   },
   "outputs": [],
   "source": [
    "df['face_pics_processed'].value_counts()"
   ]
  },
  {
   "cell_type": "code",
   "execution_count": null,
   "metadata": {
    "collapsed": false
   },
   "outputs": [],
   "source": [
    "df['github_meetup_combined'].value_counts(dropna=False)"
   ]
  },
  {
   "cell_type": "code",
   "execution_count": null,
   "metadata": {
    "collapsed": true
   },
   "outputs": [],
   "source": []
  }
 ],
 "metadata": {
  "kernelspec": {
   "display_name": "Python 2",
   "language": "python",
   "name": "python2"
  },
  "language_info": {
   "codemirror_mode": {
    "name": "ipython",
    "version": 2
   },
   "file_extension": ".py",
   "mimetype": "text/x-python",
   "name": "python",
   "nbconvert_exporter": "python",
   "pygments_lexer": "ipython2",
   "version": "2.7.12"
  }
 },
 "nbformat": 4,
 "nbformat_minor": 0
}
